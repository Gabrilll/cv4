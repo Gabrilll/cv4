{
 "cells": [
  {
   "cell_type": "code",
   "execution_count": 2,
   "metadata": {},
   "outputs": [
    {
     "name": "stdout",
     "output_type": "stream",
     "text": [
      "Cloning into 'Face_Detection_Recognition'...\n",
      "remote: Enumerating objects: 196, done.\u001b[K\n",
      "remote: Counting objects: 100% (28/28), done.\u001b[K\n",
      "remote: Compressing objects: 100% (28/28), done.\u001b[K\n",
      "remote: Total 196 (delta 12), reused 0 (delta 0), pack-reused 168\u001b[K\n",
      "Receiving objects: 100% (196/196), 65.92 MiB | 5.81 MiB/s, done.\n",
      "Resolving deltas: 100% (52/52), done.\n"
     ]
    }
   ],
   "source": [
    "!git clone https://github.com/Gabrilll/Face_Detection_Recognition.git"
   ]
  },
  {
   "cell_type": "code",
   "execution_count": 1,
   "metadata": {},
   "outputs": [
    {
     "name": "stderr",
     "output_type": "stream",
     "text": [
      "2021-06-03 18:34:49,863 - module_wrapper.py - _tfmw_add_deprecation_warning - WARNING - From /home/hw4/Face_Detection_Recognition/faceRecognition/face_recognition.py:42: The name tf.Session is deprecated. Please use tf.compat.v1.Session instead.\n",
      "\n"
     ]
    },
    {
     "name": "stdout",
     "output_type": "stream",
     "text": [
      "['0', '1', '10', '11', '12', '13', '14', '15', '16', '17', '18', '19', '2', '20', '21', '22', '23', '24', '25', '26', '27', '28', '29', '3', '30', '31', '32', '33', '34', '35', '36', '37', '38', '39', '4', '40', '41', '42', '43', '44', '45', '46', '47', '48', '49', '5', '6', '7', '8', '9']\n",
      "Creating networks and loading parameters\n"
     ]
    },
    {
     "name": "stderr",
     "output_type": "stream",
     "text": [
      "2021-06-03 18:34:50,076 - module_wrapper.py - _tfmw_add_deprecation_warning - WARNING - From /home/hw4/Face_Detection_Recognition/faceRecognition/align/detect_face.py:280: The name tf.variable_scope is deprecated. Please use tf.compat.v1.variable_scope instead.\n",
      "\n",
      "2021-06-03 18:34:50,077 - module_wrapper.py - _tfmw_add_deprecation_warning - WARNING - From /home/hw4/Face_Detection_Recognition/faceRecognition/align/detect_face.py:281: The name tf.placeholder is deprecated. Please use tf.compat.v1.placeholder instead.\n",
      "\n",
      "2021-06-03 18:34:50,081 - module_wrapper.py - _tfmw_add_deprecation_warning - WARNING - From /home/hw4/Face_Detection_Recognition/faceRecognition/align/detect_face.py:125: The name tf.get_variable is deprecated. Please use tf.compat.v1.get_variable instead.\n",
      "\n",
      "2021-06-03 18:34:50,116 - module_wrapper.py - _tfmw_add_deprecation_warning - WARNING - From /home/hw4/Face_Detection_Recognition/faceRecognition/align/detect_face.py:177: The name tf.nn.max_pool is deprecated. Please use tf.nn.max_pool2d instead.\n",
      "\n",
      "2021-06-03 18:34:50,202 - deprecation.py - new_func - WARNING - From /home/hw4/Face_Detection_Recognition/faceRecognition/align/detect_face.py:213: div (from tensorflow.python.ops.math_ops) is deprecated and will be removed in a future version.\n",
      "Instructions for updating:\n",
      "Deprecated in favor of operator or tf.math.divide.\n",
      "2021-06-03 18:34:50,878 - module_wrapper.py - _tfmw_add_deprecation_warning - WARNING - From /home/hw4/Face_Detection_Recognition/faceRecognition/align/detect_face.py:197: The name tf.nn.xw_plus_b is deprecated. Please use tf.compat.v1.nn.xw_plus_b instead.\n",
      "\n",
      "2021-06-03 18:34:52,063 - module_wrapper.py - _tfmw_add_deprecation_warning - WARNING - From /home/hw4/Face_Detection_Recognition/faceRecognition/face_recognition.py:15: The name tf.InteractiveSession is deprecated. Please use tf.compat.v1.InteractiveSession instead.\n",
      "\n",
      "2021-06-03 18:34:52,078 - module_wrapper.py - _tfmw_add_deprecation_warning - WARNING - From /home/hw4/Face_Detection_Recognition/faceRecognition/face_recognition.py:16: The name tf.global_variables_initializer is deprecated. Please use tf.compat.v1.global_variables_initializer instead.\n",
      "\n",
      "2021-06-03 18:34:52,083 - module_wrapper.py - _tfmw_add_deprecation_warning - WARNING - From /home/hw4/facenet/src/facenet.py:381: The name tf.train.import_meta_graph is deprecated. Please use tf.compat.v1.train.import_meta_graph instead.\n",
      "\n"
     ]
    },
    {
     "name": "stdout",
     "output_type": "stream",
     "text": [
      "Model directory: 20180402-114759/\n",
      "Metagraph file: model-20180402-114759.meta\n",
      "Checkpoint file: model-20180402-114759.ckpt-275\n"
     ]
    },
    {
     "name": "stderr",
     "output_type": "stream",
     "text": [
      "2021-06-03 18:35:00,140 - deprecation.py - new_func - WARNING - From /root/miniconda3/envs/myconda/lib/python3.7/site-packages/tensorflow_core/python/training/queue_runner_impl.py:391: QueueRunner.__init__ (from tensorflow.python.training.queue_runner_impl) is deprecated and will be removed in a future version.\n",
      "Instructions for updating:\n",
      "To construct input pipelines, use the `tf.data` module.\n",
      "2021-06-03 18:35:00,204 - module_wrapper.py - _tfmw_add_deprecation_warning - WARNING - From /home/hw4/facenet/src/facenet.py:382: The name tf.get_default_session is deprecated. Please use tf.compat.v1.get_default_session instead.\n",
      "\n",
      "2021-06-03 18:35:00,207 - saver.py - restore - INFO - Restoring parameters from 20180402-114759/model-20180402-114759.ckpt-275\n",
      "2021-06-03 18:35:02,486 - module_wrapper.py - _tfmw_add_deprecation_warning - WARNING - From /home/hw4/Face_Detection_Recognition/faceRecognition/face_recognition.py:20: The name tf.get_default_graph is deprecated. Please use tf.compat.v1.get_default_graph instead.\n",
      "\n"
     ]
    },
    {
     "name": "stdout",
     "output_type": "stream",
     "text": [
      "processing image :gal_mtcnn/0/0.png\n",
      "processing image :gal_mtcnn/1/1.png\n",
      "processing image :gal_mtcnn/10/10.png\n",
      "processing image :gal_mtcnn/11/11.png\n",
      "processing image :gal_mtcnn/12/12.png\n",
      "processing image :gal_mtcnn/13/13.png\n",
      "processing image :gal_mtcnn/14/14.png\n",
      "processing image :gal_mtcnn/15/15.png\n",
      "processing image :gal_mtcnn/16/16.png\n",
      "processing image :gal_mtcnn/17/17.png\n",
      "processing image :gal_mtcnn/18/18.png\n",
      "processing image :gal_mtcnn/19/19.png\n",
      "processing image :gal_mtcnn/2/2.png\n",
      "processing image :gal_mtcnn/20/20.png\n",
      "processing image :gal_mtcnn/21/21.png\n",
      "processing image :gal_mtcnn/22/22.png\n",
      "processing image :gal_mtcnn/23/23.png\n",
      "processing image :gal_mtcnn/24/24.png\n",
      "processing image :gal_mtcnn/25/25.png\n",
      "processing image :gal_mtcnn/26/26.png\n",
      "processing image :gal_mtcnn/27/27.png\n",
      "processing image :gal_mtcnn/28/28.png\n",
      "processing image :gal_mtcnn/29/29.png\n",
      "processing image :gal_mtcnn/3/3.png\n",
      "processing image :gal_mtcnn/30/30.png\n",
      "processing image :gal_mtcnn/31/31.png\n",
      "processing image :gal_mtcnn/32/32.png\n",
      "processing image :gal_mtcnn/33/33.png\n",
      "processing image :gal_mtcnn/34/34.png\n",
      "processing image :gal_mtcnn/35/35.png\n",
      "processing image :gal_mtcnn/36/36.png\n",
      "processing image :gal_mtcnn/37/37.png\n",
      "processing image :gal_mtcnn/38/38.png\n",
      "processing image :gal_mtcnn/39/39.png\n",
      "processing image :gal_mtcnn/4/4.png\n",
      "processing image :gal_mtcnn/40/40.png\n",
      "processing image :gal_mtcnn/41/41.png\n",
      "processing image :gal_mtcnn/42/42.png\n",
      "processing image :gal_mtcnn/43/43.png\n",
      "processing image :gal_mtcnn/44/44.png\n",
      "processing image :gal_mtcnn/45/45.png\n",
      "processing image :gal_mtcnn/46/46.png\n",
      "processing image :gal_mtcnn/47/47.png\n",
      "processing image :gal_mtcnn/48/48.png\n",
      "processing image :gal_mtcnn/49/49.png\n",
      "processing image :gal_mtcnn/5/5.png\n",
      "processing image :gal_mtcnn/6/6.png\n",
      "processing image :gal_mtcnn/7/7.png\n",
      "processing image :gal_mtcnn/8/8.png\n",
      "processing image :gal_mtcnn/9/9.png\n",
      "label_list:['0', '1', '10', '11', '12', '13', '14', '15', '16', '17', '18', '19', '2', '20', '21', '22', '23', '24', '25', '26', '27', '28', '29', '3', '30', '31', '32', '33', '34', '35', '36', '37', '38', '39', '4', '40', '41', '42', '43', '44', '45', '46', '47', '48', '49', '5', '6', '7', '8', '9']\n",
      "have 50 label\n"
     ]
    }
   ],
   "source": [
    "import numpy as np\n",
    "from Face_Detection_Recognition.faceRecognition.utils import image_processing , file_processing,debug\n",
    "from Face_Detection_Recognition.faceRecognition import face_recognition\n",
    "from Face_Detection_Recognition.faceRecognition import align\n",
    "import tensorflow as tf\n",
    "import cv2\n",
    "import os\n",
    "\n",
    "\n",
    "resize_width = 160\n",
    "resize_height = 160\n",
    " \n",
    " \n",
    "def get_embedding(model_path,file_list, cls_list):\n",
    "    \n",
    "    colorSpace=\"RGB\"\n",
    "    face_detect = face_recognition.Facedetection()\n",
    "    facenet = face_recognition.facenetEmbedding(model_path)\n",
    " \n",
    "    embeddings=[] \n",
    "    label_list=[]\n",
    "    for image_path, c in zip(file_list, cls_list):\n",
    "        print(\"processing image :{}\".format(image_path))\n",
    "        image = image_processing.read_image_gbk(image_path, colorSpace=colorSpace)\n",
    "\n",
    "        bboxes, landmarks = face_detect.detect_face(image)\n",
    "        bboxes, landmarks =face_detect.get_square_bboxes(bboxes, landmarks,fixed=\"height\")\n",
    "        \n",
    "        # image_processing.show_image_boxes(\"image\",image,bboxes)\n",
    "        \n",
    "        if bboxes == [] or landmarks == []:\n",
    "            print(\"{} no face\".format(image_path))\n",
    "            continue\n",
    "            \n",
    "        if len(bboxes) >= 2 or len(landmarks) >= 2:\n",
    "            print(\"{} have {} faces\".format(image_path,len(bboxes)))\n",
    "            continue\n",
    "            \n",
    "        face_images = image_processing.get_bboxes_image(image, bboxes, resize_height, resize_width)\n",
    "        face_images = image_processing.get_prewhiten_images(face_images,normalization=True)\n",
    "        pred_emb = facenet.get_embedding(face_images)\n",
    "        embeddings.append(pred_emb)\n",
    "        \n",
    "        # label_list.append(image_path)\n",
    "        label_list.append(c)\n",
    "    return embeddings,label_list\n",
    " \n",
    "def generate_embedding(model_path,dataset_path,out_emb_path,out_filename):\n",
    "    '''\n",
    "    :param model_path: faceNet模型路径\n",
    "    :param dataset_path: 人脸数据库路径，每一类单独一个文件夹\n",
    "    :param out_emb_path: 输出embeddings的路径\n",
    "    :param out_filename: 输出与embeddings一一对应的标签\n",
    "    :return: None\n",
    "    '''\n",
    "#     file_list,cls_list=file_processing.gen_file_labels(dataset_path,postfix='jpg')\n",
    "    file_list=os.listdir(dataset_path)\n",
    "    file_list=[f for f in file_list if f.isdigit()]\n",
    "    cls_list=[file for file in file_list]\n",
    "    print(cls_list)\n",
    "    file_list=[os.path.join(os.path.join(dataset_path,file),file+'.png') for file in file_list]\n",
    "#     print(file_list)\n",
    "#     print(cls_list)\n",
    "#     print(file_list)\n",
    "    embeddings,label_list=get_embedding(model_path,file_list, cls_list)\n",
    "    print(\"label_list:{}\".format(label_list))\n",
    "    print(\"have {} label\".format(len(label_list)))\n",
    " \n",
    "    embeddings=np.asarray(embeddings)\n",
    "    np.save(out_emb_path, embeddings)\n",
    "    file_processing.write_data(out_filename, label_list)\n",
    " \n",
    "if __name__ == '__main__':\n",
    "    model_path = '20180402-114759/'\n",
    "    dataset_path='gal_mtcnn'\n",
    "    out_emb_path = 'emb/faceEmbedding.npy'\n",
    "    out_filename = 'emb/name.txt'\n",
    "    generate_embedding(model_path,dataset_path,out_emb_path,out_filename)"
   ]
  },
  {
   "cell_type": "code",
   "execution_count": 2,
   "metadata": {},
   "outputs": [
    {
     "name": "stdout",
     "output_type": "stream",
     "text": [
      "/home/hw4\n"
     ]
    }
   ],
   "source": [
    "print(os.getcwd())"
   ]
  },
  {
   "cell_type": "code",
   "execution_count": 2,
   "metadata": {},
   "outputs": [
    {
     "name": "stdout",
     "output_type": "stream",
     "text": [
      "Archive:  20180402-114759.zip\n",
      "   creating: 20180402-114759/\n",
      "  inflating: 20180402-114759/model-20180402-114759.meta  \n",
      "  inflating: 20180402-114759/20180402-114759.pb  \n",
      "  inflating: 20180402-114759/model-20180402-114759.ckpt-275.data-00000-of-00001  \n",
      "  inflating: 20180402-114759/model-20180402-114759.ckpt-275.index  \n"
     ]
    }
   ],
   "source": [
    "!unzip 20180402-114759.zip"
   ]
  },
  {
   "cell_type": "code",
   "execution_count": null,
   "metadata": {},
   "outputs": [],
   "source": []
  }
 ],
 "metadata": {
  "kernelspec": {
   "display_name": "Python 3",
   "language": "python",
   "name": "python3"
  },
  "language_info": {
   "codemirror_mode": {
    "name": "ipython",
    "version": 3
   },
   "file_extension": ".py",
   "mimetype": "text/x-python",
   "name": "python",
   "nbconvert_exporter": "python",
   "pygments_lexer": "ipython3",
   "version": "3.7.6"
  }
 },
 "nbformat": 4,
 "nbformat_minor": 4
}
